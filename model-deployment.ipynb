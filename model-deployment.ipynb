{
 "cells": [
  {
   "cell_type": "code",
   "execution_count": 4,
   "metadata": {},
   "outputs": [
    {
     "name": "stdout",
     "output_type": "stream",
     "text": [
      "Thu Jul 25 06:00:46 2024       \n",
      "+-----------------------------------------------------------------------------------------+\n",
      "| NVIDIA-SMI 555.99                 Driver Version: 555.99         CUDA Version: 12.5     |\n",
      "|-----------------------------------------+------------------------+----------------------+\n",
      "| GPU  Name                  Driver-Model | Bus-Id          Disp.A | Volatile Uncorr. ECC |\n",
      "| Fan  Temp   Perf          Pwr:Usage/Cap |           Memory-Usage | GPU-Util  Compute M. |\n",
      "|                                         |                        |               MIG M. |\n",
      "|=========================================+========================+======================|\n",
      "|   0  NVIDIA GeForce RTX 3050 ...  WDDM  |   00000000:01:00.0 Off |                  N/A |\n",
      "| N/A   57C    P8              3W /   40W |     330MiB /   4096MiB |      4%      Default |\n",
      "|                                         |                        |                  N/A |\n",
      "+-----------------------------------------+------------------------+----------------------+\n",
      "                                                                                         \n",
      "+-----------------------------------------------------------------------------------------+\n",
      "| Processes:                                                                              |\n",
      "|  GPU   GI   CI        PID   Type   Process name                              GPU Memory |\n",
      "|        ID   ID                                                               Usage      |\n",
      "|=========================================================================================|\n",
      "|    0   N/A  N/A      6164    C+G   ...m Files\\Mozilla Firefox\\firefox.exe      N/A      |\n",
      "|    0   N/A  N/A     15076    C+G   ...inaries\\Win64\\EpicGamesLauncher.exe      N/A      |\n",
      "|    0   N/A  N/A     18212    C+G   ...m Files\\Mozilla Firefox\\firefox.exe      N/A      |\n",
      "+-----------------------------------------------------------------------------------------+\n"
     ]
    }
   ],
   "source": [
    "!nvidia-smi"
   ]
  },
  {
   "cell_type": "code",
   "execution_count": 1,
   "metadata": {},
   "outputs": [
    {
     "name": "stderr",
     "output_type": "stream",
     "text": [
      "Ultralytics YOLOv8.0.196  Python-3.12.4 torch-2.4.0 CUDA:0 (NVIDIA GeForce RTX 3050 Laptop GPU, 4096MiB)\n",
      "Setup complete  (12 CPUs, 15.7 GB RAM, 222.2/228.2 GB disk)\n"
     ]
    },
    {
     "name": "stdout",
     "output_type": "stream",
     "text": [
      "Ultralytics:  None\n",
      "CUDA:  True\n",
      "torch: 2.4.0\n",
      "Using device: cuda\n"
     ]
    }
   ],
   "source": [
    "\n",
    "import ultralytics\n",
    "print('Ultralytics: ' , ultralytics.checks())\n",
    "\n",
    "import torch\n",
    "print('CUDA: ', torch.cuda.is_available())\n",
    "\n",
    "import torch\n",
    "print('torch:', torch.__version__)\n",
    "\n",
    "device = 'cuda' if torch.cuda.is_available() else 'cpu'\n",
    "print(f\"Using device: {device}\")\n",
    "\n"
   ]
  },
  {
   "cell_type": "code",
   "execution_count": null,
   "metadata": {},
   "outputs": [],
   "source": [
    "import cv2\n",
    "from ultralytics import YOLO\n",
    "import torch\n",
    "import numpy as np \n",
    "\n",
    "# Device Setup (Explicit Check):\n",
    "device = 'cuda' if torch.cuda.is_available() else 'cpu'\n",
    "print(f\"Using device: {device}\")\n",
    "\n",
    "# Load YOLO Model (Ensure Correct Path and Model Exists):\n",
    "model_path = 'best.pt'  # Adjust if your model file is named differently\n",
    "model = YOLO(model_path)  # Make sure the model exists at this path\n",
    "model.to(device)\n",
    "\n",
    "# Video Capture (Improved Error Handling):\n",
    "try:\n",
    "    webcamera = cv2.VideoCapture(0) \n",
    "except Exception as e:\n",
    "    print(f\"Error opening webcam: {e}\")\n",
    "    exit()\n",
    "\n",
    "# Video Loop (with Confidence and IoU Thresholds):\n",
    "conf_threshold = 0.5   # Adjust confidence threshold for detection\n",
    "iou_threshold = 0.45  # Adjust IoU (Intersection over Union) threshold\n",
    "\n",
    "while True:\n",
    "    success, frame = webcamera.read()\n",
    "    if not success:\n",
    "        break\n",
    "\n",
    "    # Preprocessing:\n",
    "    # frame = cv2.cvtColor(frame, cv2.q)\n",
    "    frame = frame.astype(np.float32) / 255.0\n",
    "    frame_tensor = torch.from_numpy(frame).to(device)\n",
    "    frame_tensor = frame_tensor.permute(2, 0, 1).unsqueeze(0)\n",
    "\n",
    "    # Inference:\n",
    "    results = model.predict(frame_tensor, conf=conf_threshold, iou=iou_threshold)\n",
    "\n",
    "    # Display Results (Optimized Plotting):\n",
    "    for result in results:\n",
    "        annotated_frame = result.plot() \n",
    "\n",
    "        # Display count for this result:\n",
    "        cv2.putText(annotated_frame, f\"Count: {len(result.boxes)}\", (50, 50), \n",
    "                    cv2.FONT_HERSHEY_SIMPLEX, 1, (0, 0, 255), 2, cv2.LINE_AA)\n",
    "\n",
    "        # Show the frame:\n",
    "        cv2.imshow(\"Live Camera\", annotated_frame)\n",
    "\n",
    "    # Exit on 'ESC' press:\n",
    "    if cv2.waitKey(1) == 27:\n",
    "        break\n",
    "\n",
    "# Release resources:\n",
    "webcamera.release()\n",
    "cv2.destroyAllWindows()"
   ]
  }
 ],
 "metadata": {
  "kernelspec": {
   "display_name": "base",
   "language": "python",
   "name": "python3"
  },
  "language_info": {
   "codemirror_mode": {
    "name": "ipython",
    "version": 3
   },
   "file_extension": ".py",
   "mimetype": "text/x-python",
   "name": "python",
   "nbconvert_exporter": "python",
   "pygments_lexer": "ipython3",
   "version": "3.12.4"
  }
 },
 "nbformat": 4,
 "nbformat_minor": 2
}
